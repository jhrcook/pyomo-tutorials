{
 "cells": [
  {
   "cell_type": "markdown",
   "metadata": {},
   "source": [
    "# The diet problem\n",
    "\n",
    "[Tutorial](https://nbviewer.jupyter.org/github/Pyomo/PyomoGallery/blob/master/diet/DietProblem.ipynb)"
   ]
  },
  {
   "cell_type": "code",
   "execution_count": 1,
   "metadata": {},
   "outputs": [],
   "source": [
    "import random\n",
    "import re\n",
    "\n",
    "from pyomo import environ as pyo\n",
    "from pyomo.dataportal import DataPortal\n",
    "from pyomo.opt import SolverFactory\n",
    "\n",
    "random.seed(123)\n",
    "infinity = float(\"inf\")"
   ]
  },
  {
   "cell_type": "markdown",
   "metadata": {},
   "source": [
    "## Problem\n",
    "\n",
    "Satisfy the daily nutrient requirements at a minimum cost.\n",
    "\n",
    "### Sets\n",
    "\n",
    "- $F$: set of foods\n",
    "- $N$: set of nutrients\n",
    "\n",
    "### Parameters\n",
    "\n",
    "- $c_i$: cost per serving of food $i$, $\\forall i \\in F$\n",
    "- $a_{ij}$: cost of nutrient $j$ in food $i$, $\\forall i \\in F$, $\\forall j \\in N$\n",
    "- $Nmin_j$, $Nmax_j$: minmum and maximum level of nutrient $j$, $\\forall j \\in N$\n",
    "- $V_i$: volume per serving of food $j$, $\\forall j \\in F$\n",
    "- $Vmax$: maximum volume of food consumed\n",
    "\n",
    "### Variables\n",
    "\n",
    "- $x_i$: number of servings of food $i$ to consume\n",
    "\n",
    "### Objective\n",
    "\n",
    "Minimize the cost of food: $\\sum _{i \\in F} c_i * x_i$\n",
    "\n",
    "### Constraints\n",
    "\n",
    "- limit the nutrient consumption for each nutriend $j \\in N$: $Nmin_j \\leq \\sum_{i \\in F} a_{ij} x_i \\leq Nmax_j$, $\\forall j \\in N$\n",
    "- limit the volume of food consumed: $\\sum_{i \\in F} V_i x_i \\leq Vmax$\n",
    "- lower bound on food consumption: $x_i \\geq 0$, $\\forall_i \\in F$"
   ]
  },
  {
   "cell_type": "markdown",
   "metadata": {},
   "source": [
    "## Coding the problem"
   ]
  },
  {
   "cell_type": "code",
   "execution_count": 2,
   "metadata": {},
   "outputs": [],
   "source": [
    "model = pyo.AbstractModel()"
   ]
  },
  {
   "cell_type": "markdown",
   "metadata": {},
   "source": [
    "### Sets"
   ]
  },
  {
   "cell_type": "code",
   "execution_count": 3,
   "metadata": {},
   "outputs": [],
   "source": [
    "model.F = pyo.Set()  # Foods\n",
    "model.N = pyo.Set()  # Nutrients"
   ]
  },
  {
   "cell_type": "markdown",
   "metadata": {},
   "source": [
    "### Parameters"
   ]
  },
  {
   "cell_type": "code",
   "execution_count": 4,
   "metadata": {},
   "outputs": [],
   "source": [
    "model.c = pyo.Param(model.F, within=pyo.PositiveReals)\n",
    "model.a = pyo.Param(model.F, model.N, within=pyo.NonNegativeReals)\n",
    "model.Nmin = pyo.Param(model.N, within=pyo.NonNegativeReals, default=0.0)\n",
    "model.Nmax = pyo.Param(model.N, within=pyo.NonNegativeReals, default=infinity)\n",
    "model.V = pyo.Param(model.F, within=pyo.PositiveReals)\n",
    "model.Vmax = pyo.Param(within=pyo.PositiveReals)"
   ]
  },
  {
   "cell_type": "markdown",
   "metadata": {},
   "source": [
    "### Variables"
   ]
  },
  {
   "cell_type": "code",
   "execution_count": 5,
   "metadata": {},
   "outputs": [],
   "source": [
    "model.x = pyo.Var(model.F, within=pyo.NonNegativeIntegers)"
   ]
  },
  {
   "cell_type": "markdown",
   "metadata": {},
   "source": [
    "### Objective"
   ]
  },
  {
   "cell_type": "code",
   "execution_count": 6,
   "metadata": {},
   "outputs": [],
   "source": [
    "def cost_rule(model):\n",
    "    return sum(model.c[i] * model.x[i] for i in model.F)\n",
    "\n",
    "\n",
    "model.cost = pyo.Objective(rule=cost_rule)"
   ]
  },
  {
   "cell_type": "markdown",
   "metadata": {},
   "source": [
    "### Constraints"
   ]
  },
  {
   "cell_type": "code",
   "execution_count": 7,
   "metadata": {},
   "outputs": [],
   "source": [
    "def nutrient_rule(model, j):\n",
    "    value = sum(model.a[i, j] * model.x[i] for i in model.F)\n",
    "    return model.Nmin[j] <= value <= model.Nmax[j]\n",
    "\n",
    "\n",
    "def volume_rule(model):\n",
    "    return sum(model.V[i] * model.x[i] for i in model.F) <= model.Vmax\n",
    "\n",
    "\n",
    "model.nutrient_limit = pyo.Constraint(model.N, rule=nutrient_rule)\n",
    "model.volume = pyo.Constraint(rule=volume_rule)"
   ]
  },
  {
   "cell_type": "markdown",
   "metadata": {},
   "source": [
    "## Data"
   ]
  },
  {
   "cell_type": "code",
   "execution_count": 8,
   "metadata": {},
   "outputs": [
    {
     "name": "stdout",
     "output_type": "stream",
     "text": [
      "F: ['Cheeseburger', 'Ham Sandwich', 'Hamburger', 'Fish Sandwich', 'Chicken Sandwich', 'Fries', 'Sausage Biscuit', 'Lowfat Milk', 'Orange Juice']\n",
      "==============================\n",
      "c: {'Cheeseburger': 1.84, 'Ham Sandwich': 2.19, 'Hamburger': 1.84, 'Fish Sandwich': 1.44, 'Chicken Sandwich': 2.29, 'Fries': 0.77, 'Sausage Biscuit': 1.29, 'Lowfat Milk': 0.6, 'Orange Juice': 0.72}\n",
      "==============================\n",
      "V: {'Cheeseburger': 4.0, 'Ham Sandwich': 7.5, 'Hamburger': 3.5, 'Fish Sandwich': 5.0, 'Chicken Sandwich': 7.3, 'Fries': 2.6, 'Sausage Biscuit': 4.1, 'Lowfat Milk': 8.0, 'Orange Juice': 12.0}\n",
      "==============================\n",
      "Vmax: 75.0\n",
      "==============================\n",
      "N: ['Cal', 'Carbo', 'Protein', 'VitA', 'VitC', 'Calc', 'Iron']\n",
      "==============================\n",
      "Nmin: {'Cal': 2000, 'Carbo': 350, 'Protein': 55, 'VitA': 100, 'VitC': 100, 'Calc': 100, 'Iron': 100}\n",
      "==============================\n",
      "Nmax: {'Carbo': 375}\n",
      "==============================\n",
      "a: {('Cheeseburger', 'Cal'): 510, ('Ham Sandwich', 'Cal'): 370, ('Hamburger', 'Cal'): 500, ('Fish Sandwich', 'Cal'): 370, ('Chicken Sandwich', 'Cal'): 400, ('Fries', 'Cal'): 220, ('Sausage Biscuit', 'Cal'): 345, ('Lowfat Milk', 'Cal'): 110, ('Orange Juice', 'Cal'): 80, ('Cheeseburger', 'Carbo'): 34, ('Ham Sandwich', 'Carbo'): 35, ('Hamburger', 'Carbo'): 42, ('Fish Sandwich', 'Carbo'): 38, ('Chicken Sandwich', 'Carbo'): 42, ('Fries', 'Carbo'): 26, ('Sausage Biscuit', 'Carbo'): 27, ('Lowfat Milk', 'Carbo'): 12, ('Orange Juice', 'Carbo'): 20, ('Cheeseburger', 'Protein'): 28, ('Ham Sandwich', 'Protein'): 24, ('Hamburger', 'Protein'): 25, ('Fish Sandwich', 'Protein'): 14, ('Chicken Sandwich', 'Protein'): 31, ('Fries', 'Protein'): 3, ('Sausage Biscuit', 'Protein'): 15, ('Lowfat Milk', 'Protein'): 9, ('Orange Juice', 'Protein'): 1, ('Cheeseburger', 'VitA'): 15, ('Ham Sandwich', 'VitA'): 15, ('Hamburger', 'VitA'): 6, ('Fish Sandwich', 'VitA'): 2, ('Chicken Sandwich', 'VitA'): 8, ('Fries', 'VitA'): 0, ('Sausage Biscuit', 'VitA'): 4, ('Lowfat Milk', 'VitA'): 10, ('Orange Juice', 'VitA'): 2, ('Cheeseburger', 'VitC'): 6, ('Ham Sandwich', 'VitC'): 10, ('Hamburger', 'VitC'): 2, ('Fish Sandwich', 'VitC'): 0, ('Chicken Sandwich', 'VitC'): 15, ('Fries', 'VitC'): 15, ('Sausage Biscuit', 'VitC'): 0, ('Lowfat Milk', 'VitC'): 4, ('Orange Juice', 'VitC'): 120, ('Cheeseburger', 'Calc'): 30, ('Ham Sandwich', 'Calc'): 20, ('Hamburger', 'Calc'): 25, ('Fish Sandwich', 'Calc'): 15, ('Chicken Sandwich', 'Calc'): 15, ('Fries', 'Calc'): 0, ('Sausage Biscuit', 'Calc'): 20, ('Lowfat Milk', 'Calc'): 30, ('Orange Juice', 'Calc'): 2, ('Cheeseburger', 'Iron'): 20, ('Ham Sandwich', 'Iron'): 20, ('Hamburger', 'Iron'): 20, ('Fish Sandwich', 'Iron'): 10, ('Chicken Sandwich', 'Iron'): 8, ('Fries', 'Iron'): 2, ('Sausage Biscuit', 'Iron'): 15, ('Lowfat Milk', 'Iron'): 0, ('Orange Juice', 'Iron'): 2}\n",
      "==============================\n"
     ]
    }
   ],
   "source": [
    "data = DataPortal()\n",
    "data.load(filename=\"data/diet.dat\", model=model)\n",
    "for k, v in data.items():\n",
    "    print(f\"{k}: {v}\")\n",
    "    print(\"=\" * 30)"
   ]
  },
  {
   "cell_type": "markdown",
   "metadata": {},
   "source": [
    "## Solving"
   ]
  },
  {
   "cell_type": "code",
   "execution_count": 9,
   "metadata": {},
   "outputs": [
    {
     "name": "stdout",
     "output_type": "stream",
     "text": [
      "WARNING: DEPRECATED: Chained inequalities are deprecated. Use the inequality()\n",
      "    function to express ranged inequality expressions. (called from <ipython-\n",
      "    input-7-3383a4e93487>:3)\n",
      "WARNING: DEPRECATED: Chained inequalities are deprecated. Use the inequality()\n",
      "    function to express ranged inequality expressions. (called from <ipython-\n",
      "    input-7-3383a4e93487>:3)\n",
      "WARNING: DEPRECATED: Chained inequalities are deprecated. Use the inequality()\n",
      "    function to express ranged inequality expressions. (called from <ipython-\n",
      "    input-7-3383a4e93487>:3)\n",
      "WARNING: DEPRECATED: Chained inequalities are deprecated. Use the inequality()\n",
      "    function to express ranged inequality expressions. (called from <ipython-\n",
      "    input-7-3383a4e93487>:3)\n",
      "WARNING: DEPRECATED: Chained inequalities are deprecated. Use the inequality()\n",
      "    function to express ranged inequality expressions. (called from <ipython-\n",
      "    input-7-3383a4e93487>:3)\n",
      "WARNING: DEPRECATED: Chained inequalities are deprecated. Use the inequality()\n",
      "    function to express ranged inequality expressions. (called from <ipython-\n",
      "    input-7-3383a4e93487>:3)\n",
      "WARNING: DEPRECATED: Chained inequalities are deprecated. Use the inequality()\n",
      "    function to express ranged inequality expressions. (called from <ipython-\n",
      "    input-7-3383a4e93487>:3)\n",
      "\n",
      "Problem: \n",
      "- Name: unknown\n",
      "  Lower bound: 15.05\n",
      "  Upper bound: 15.05\n",
      "  Number of objectives: 1\n",
      "  Number of constraints: 10\n",
      "  Number of variables: 10\n",
      "  Number of nonzeros: 77\n",
      "  Sense: minimize\n",
      "Solver: \n",
      "- Status: ok\n",
      "  Termination condition: optimal\n",
      "  Statistics: \n",
      "    Branch and bound: \n",
      "      Number of bounded subproblems: 23\n",
      "      Number of created subproblems: 23\n",
      "  Error rc: 0\n",
      "  Time: 0.01696300506591797\n",
      "Solution: \n",
      "- number of solutions: 0\n",
      "  number of solutions displayed: 0\n",
      "\n"
     ]
    }
   ],
   "source": [
    "instance = model.create_instance(data=data, name=\"The Diet Problem\")\n",
    "opt = SolverFactory(\"glpk\")\n",
    "solution = opt.solve(instance)\n",
    "print(solution)"
   ]
  },
  {
   "cell_type": "code",
   "execution_count": 10,
   "metadata": {},
   "outputs": [
    {
     "name": "stdout",
     "output_type": "stream",
     "text": [
      "cost: $15.05\n"
     ]
    }
   ],
   "source": [
    "for v in instance.component_data_objects(pyo.Objective, active=True):\n",
    "    print(f\"{v.name}: ${pyo.value(v)}\")"
   ]
  },
  {
   "cell_type": "code",
   "execution_count": 11,
   "metadata": {},
   "outputs": [
    {
     "name": "stdout",
     "output_type": "stream",
     "text": [
      "Cheeseburger: 4.0\n",
      "Fish Sandwich: 1.0\n",
      "Fries: 5.0\n",
      "Lowfat Milk: 4.0\n"
     ]
    }
   ],
   "source": [
    "for v in instance.component_data_objects(pyo.Var, active=True):\n",
    "    if v.value > 0:\n",
    "        name = re.sub(r\"[x\\[|\\]]\", \"\", v.name)\n",
    "        print(f\"{name}: {v.value}\")"
   ]
  },
  {
   "cell_type": "markdown",
   "metadata": {},
   "source": [
    "---"
   ]
  },
  {
   "cell_type": "code",
   "execution_count": 12,
   "metadata": {},
   "outputs": [
    {
     "name": "stdout",
     "output_type": "stream",
     "text": [
      "Last updated: 2020-12-21\n",
      "\n",
      "Python implementation: CPython\n",
      "Python version       : 3.8.5\n",
      "IPython version      : 7.19.0\n",
      "\n",
      "Compiler    : Clang 10.0.0 \n",
      "OS          : Darwin\n",
      "Release     : 20.1.0\n",
      "Machine     : x86_64\n",
      "Processor   : i386\n",
      "CPU cores   : 4\n",
      "Architecture: 64bit\n",
      "\n",
      "Hostname: JHCookMac.local\n",
      "\n",
      "Git branch: master\n",
      "\n",
      "pyomo: 5.7.2\n",
      "re   : 2.2.1\n",
      "\n"
     ]
    }
   ],
   "source": [
    "%load_ext watermark\n",
    "%watermark -d -u -v -iv -b -h -m"
   ]
  }
 ],
 "metadata": {
  "kernelspec": {
   "display_name": "Python 3",
   "language": "python",
   "name": "python3"
  },
  "language_info": {
   "codemirror_mode": {
    "name": "ipython",
    "version": 3
   },
   "file_extension": ".py",
   "mimetype": "text/x-python",
   "name": "python",
   "nbconvert_exporter": "python",
   "pygments_lexer": "ipython3",
   "version": "3.8.5"
  }
 },
 "nbformat": 4,
 "nbformat_minor": 4
}
