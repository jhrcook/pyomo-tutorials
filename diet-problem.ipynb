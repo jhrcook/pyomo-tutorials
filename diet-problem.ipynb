{
 "cells": [
  {
   "cell_type": "markdown",
   "metadata": {},
   "source": [
    "# The diet problem\n",
    "\n",
    "[Tutorial](https://nbviewer.jupyter.org/github/Pyomo/PyomoGallery/blob/master/diet/DietProblem.ipynb)"
   ]
  },
  {
   "cell_type": "code",
   "execution_count": 1,
   "metadata": {},
   "outputs": [],
   "source": [
    "from pyomo import environ\n",
    "\n",
    "infinity = float(\"inf\")"
   ]
  },
  {
   "cell_type": "markdown",
   "metadata": {},
   "source": [
    "## Problem\n",
    "\n",
    "Satisfy the daily nutrient requiremennts at a minimum cost.\n",
    "\n",
    "### Sets\n",
    "\n",
    "- $F$: set of foods\n",
    "- $N$: set of nutrients\n",
    "\n",
    "### Parameters\n",
    "\n",
    "- $c_i$: cost per serving of food $i$, $\\forall i \\in F$\n",
    "- $a_{ij}$: cost of nutrient $j$ in food $i$, $\\forall i \\in F$, $\\forall j \\in N$\n",
    "- $Nmin_j$, $Nmax_j$: minmum and maximum level of nutrient $j$, $\\forall j \\in N$\n",
    "- $V_i$: volume per serving of food $j$, $\\forall j \\in F$\n",
    "- $Vmax$: maximum volume of food consumed\n",
    "\n",
    "### Variables\n",
    "\n",
    "- $x_i$: number of servings of food $i$ to consume\n",
    "\n",
    "### Objective\n",
    "\n",
    "Minimize the cost of food: $\\sum _{i \\in F} c_i * x_i$\n",
    "\n",
    "### Constraints\n",
    "\n",
    "- limit the nutrient consumption for each nutriend $j \\in N$: $Nmin_j \\leq \\sum_{i \\in F} a_{ij} x_i \\leq Nmax_j$, $\\forall j \\in N$\n",
    "- limit the volume of food consumed: $\\sum_{i \\in F} V_i x_i \\leq Vmax$\n",
    "- lower bound on food consumption: $x_i \\geq 0$, $\\forall_i \\in F$"
   ]
  },
  {
   "cell_type": "markdown",
   "metadata": {},
   "source": [
    "## Coding the problem"
   ]
  },
  {
   "cell_type": "code",
   "execution_count": 2,
   "metadata": {},
   "outputs": [],
   "source": [
    "model = environ.AbstractModel()"
   ]
  },
  {
   "cell_type": "markdown",
   "metadata": {},
   "source": [
    "### Sets"
   ]
  },
  {
   "cell_type": "code",
   "execution_count": 3,
   "metadata": {},
   "outputs": [],
   "source": [
    "model.F = environ.Set()  # Foods\n",
    "model.N = environ.Set()  # Nutrients"
   ]
  },
  {
   "cell_type": "markdown",
   "metadata": {},
   "source": [
    "### Parameters"
   ]
  },
  {
   "cell_type": "code",
   "execution_count": 4,
   "metadata": {},
   "outputs": [],
   "source": [
    "model.c = environ.Param(model.F, within=environ.PositiveReals)\n",
    "model.a = environ.Param(model.F, model.N, within=environ.NonNegativeReals)\n",
    "model.Nmin = environ.Param(model.N, within=environ.NonNegativeReals, default=0.0)\n",
    "model.Nmax = environ.Param(model.N, within=environ.NonNegativeReals, default=infinity)\n",
    "model.V = environ.Param(model.F, within=environ.PositiveReals)\n",
    "model.Vmax = environ.Param(within=environ.PositiveReals)"
   ]
  },
  {
   "cell_type": "markdown",
   "metadata": {},
   "source": [
    "### Variables"
   ]
  },
  {
   "cell_type": "code",
   "execution_count": 5,
   "metadata": {},
   "outputs": [],
   "source": [
    "model.x = environ.Var(model.F, within=environ.NonNegativeIntegers)"
   ]
  },
  {
   "cell_type": "markdown",
   "metadata": {},
   "source": [
    "### Objective"
   ]
  },
  {
   "cell_type": "code",
   "execution_count": 6,
   "metadata": {},
   "outputs": [],
   "source": [
    "def cost_rule(model):\n",
    "    return sum(model.c[i] * model.x[i] for i in model.F)\n",
    "\n",
    "\n",
    "model.cost = environ.Objective(rule=cost_rule)"
   ]
  },
  {
   "cell_type": "markdown",
   "metadata": {},
   "source": [
    "### Constraints"
   ]
  },
  {
   "cell_type": "code",
   "execution_count": 7,
   "metadata": {},
   "outputs": [],
   "source": [
    "def nutrient_rule(model, j):\n",
    "    value = sum(model.a[i, j] * model.x[i] for i in model.F)\n",
    "    return model.Nmin[j] <= value <= model.Nmax[j]\n",
    "\n",
    "\n",
    "def volume_rule(model):\n",
    "    return sum(model.V[i] * model.x[i] for i in model.F) <= model.Vmax\n",
    "\n",
    "\n",
    "model.nutrient_limit = environ.Constraint(model.N, rule=nutrient_rule)\n",
    "model.volume = environ.Constraint(rule=volume_rule)"
   ]
  },
  {
   "cell_type": "markdown",
   "metadata": {},
   "source": [
    "## Data"
   ]
  },
  {
   "cell_type": "code",
   "execution_count": 8,
   "metadata": {},
   "outputs": [
    {
     "name": "stdout",
     "output_type": "stream",
     "text": [
      "param:  F:                          c     V  :=\n",
      "  \"Cheeseburger\"                 1.84   4.0  \n",
      "  \"Ham Sandwich\"                 2.19   7.5  \n",
      "  \"Hamburger\"                    1.84   3.5  \n",
      "  \"Fish Sandwich\"                1.44   5.0  \n",
      "  \"Chicken Sandwich\"             2.29   7.3  \n",
      "  \"Fries\"                         .77   2.6  \n",
      "  \"Sausage Biscuit\"              1.29   4.1  \n",
      "  \"Lowfat Milk\"                   .60   8.0 \n",
      "  \"Orange Juice\"                  .72  12.0 ;\n",
      "\n",
      "param Vmax := 75.0;\n",
      "\n",
      "param:  N:       Nmin   Nmax :=\n",
      "        Cal      2000      .\n",
      "        Carbo     350    375\n",
      "        Protein    55      .\n",
      "        VitA      100      .\n",
      "        VitC      100      .\n",
      "        Calc      100      .\n",
      "        Iron      100      . ;\n",
      "\n",
      "param a:\n",
      "                               Cal  Carbo Protein   VitA   VitC  Calc  Iron :=\n",
      "  \"Cheeseburger\"               510     34     28     15      6    30    20\n",
      "  \"Ham Sandwich\"               370     35     24     15     10    20    20\n",
      "  \"Hamburger\"                  500     42     25      6      2    25    20\n",
      "  \"Fish Sandwich\"              370     38     14      2      0    15    10\n",
      "  \"Chicken Sandwich\"           400     42     31      8     15    15     8\n",
      "  \"Fries\"                      220     26      3      0     15     0     2\n",
      "  \"Sausage Biscuit\"            345     27     15      4      0    20    15\n",
      "  \"Lowfat Milk\"                110     12      9     10      4    30     0\n",
      "  \"Orange Juice\"                80     20      1      2    120     2     2 ;\n"
     ]
    }
   ],
   "source": [
    "!cat diet_data.dat"
   ]
  },
  {
   "cell_type": "code",
   "execution_count": null,
   "metadata": {},
   "outputs": [],
   "source": []
  }
 ],
 "metadata": {
  "kernelspec": {
   "display_name": "Python 3",
   "language": "python",
   "name": "python3"
  },
  "language_info": {
   "codemirror_mode": {
    "name": "ipython",
    "version": 3
   },
   "file_extension": ".py",
   "mimetype": "text/x-python",
   "name": "python",
   "nbconvert_exporter": "python",
   "pygments_lexer": "ipython3",
   "version": "3.8.5"
  }
 },
 "nbformat": 4,
 "nbformat_minor": 4
}
