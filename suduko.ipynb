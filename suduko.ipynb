{
 "cells": [
  {
   "cell_type": "markdown",
   "metadata": {},
   "source": [
    "# Suduko\n",
    "\n",
    "Guidance and inspiration were taken from [*Creating Sudoku Solver with Python and Pyomo in Easy Steps*](https://medium.com/@dhanalakotamohan314/creating-sudoku-solver-with-python-and-pyomo-in-easy-steps-fe22ec916090) by Dhanalakota Mohan."
   ]
  },
  {
   "cell_type": "code",
   "execution_count": 1,
   "metadata": {},
   "outputs": [],
   "source": [
    "import re\n",
    "\n",
    "import numpy as np\n",
    "import pandas as pd\n",
    "from pyomo import environ as pyo\n",
    "from pyomo.dataportal import DataPortal\n",
    "from pyomo.opt import SolverFactory"
   ]
  },
  {
   "cell_type": "markdown",
   "metadata": {},
   "source": [
    "## Problem\n",
    "\n",
    "Find values for the empty cells of a Suduko puzzle.\n",
    "\n",
    "### Sets\n",
    "\n",
    "No sets.\n",
    "\n",
    "### Parameters\n",
    "\n",
    "No parameters.\n",
    "\n",
    "### Variables\n",
    "\n",
    "- $X_{ijk}$: 3D binary matrix set to 1 if the value $k$ should be at row $i$ and column $j$\n",
    "\n",
    "### Objective\n",
    "\n",
    "No objective function to minimize or maximize.\n",
    "\n",
    "### Constraints\n",
    "\n",
    "- rows: $\\sum_i^N x_{ijk} \\quad \\forall j \\in N, \\forall k \\in N$\n",
    "- cols: $\\sum_j^N x_{ijk} \\quad \\forall i \\in N, \\forall k \\in N$\n",
    "- blocks: $\\sum_{j=3p-2}^{3p} \\sum_{i=3q-2}^{3q} x_{ijk}=1 \\quad \\forall k \\in N, \\forall p,q \\in [1,3]$ \n",
    "- known cells: $x_{ijk}=1 \\quad \\forall (i,j,k) \\in G \\hat{=} \\{\\text{all known cells}\\}$"
   ]
  },
  {
   "cell_type": "markdown",
   "metadata": {},
   "source": [
    "## Data"
   ]
  },
  {
   "cell_type": "code",
   "execution_count": 2,
   "metadata": {},
   "outputs": [],
   "source": [
    "# The grid indices and possible values.\n",
    "N = np.arange(1, 9 + 1)\n",
    "\n",
    "# Known data.\n",
    "known_cells = pd.DataFrame(\n",
    "    [\n",
    "        (1, 7, 2),\n",
    "        (2, 2, 8),\n",
    "        (2, 6, 7),\n",
    "        (2, 8, 9),\n",
    "        (3, 1, 6),\n",
    "        (3, 3, 2),\n",
    "        (3, 7, 5),\n",
    "        (4, 2, 7),\n",
    "        (4, 5, 6),\n",
    "        (5, 4, 9),\n",
    "        (5, 6, 1),\n",
    "        (6, 5, 2),\n",
    "        (6, 8, 4),\n",
    "        (7, 3, 5),\n",
    "        (7, 7, 6),\n",
    "        (7, 9, 3),\n",
    "        (8, 2, 9),\n",
    "        (8, 4, 4),\n",
    "        (8, 8, 7),\n",
    "        (9, 3, 6),\n",
    "    ],\n",
    "    columns=[\"i\", \"j\", \"k\"],\n",
    ")"
   ]
  },
  {
   "cell_type": "markdown",
   "metadata": {},
   "source": [
    "## Coding the model"
   ]
  },
  {
   "cell_type": "code",
   "execution_count": 3,
   "metadata": {},
   "outputs": [],
   "source": [
    "model = pyo.ConcreteModel()"
   ]
  },
  {
   "cell_type": "markdown",
   "metadata": {},
   "source": [
    "### Variable"
   ]
  },
  {
   "cell_type": "code",
   "execution_count": 4,
   "metadata": {},
   "outputs": [],
   "source": [
    "model.X = pyo.Var(N, N, N, within=pyo.Binary)"
   ]
  },
  {
   "cell_type": "markdown",
   "metadata": {},
   "source": [
    "### Constraints"
   ]
  },
  {
   "cell_type": "code",
   "execution_count": 5,
   "metadata": {},
   "outputs": [],
   "source": [
    "model.row_constraint = pyo.ConstraintList()\n",
    "model.col_constraint = pyo.ConstraintList()\n",
    "model.block_constraint = pyo.ConstraintList()\n",
    "model.allcells_constraint = pyo.ConstraintList()\n",
    "model.knowncells_constraint = pyo.ConstraintList()\n",
    "\n",
    "# Rows\n",
    "for i in N:\n",
    "    for k in N:\n",
    "        model.row_constraint.add(sum(model.X[i, j, k] for j in N) == 1)\n",
    "\n",
    "# Columns\n",
    "for j in N:\n",
    "    for k in N:\n",
    "        model.col_constraint.add(sum(model.X[i, j, k] for i in N) == 1)\n",
    "\n",
    "# Blocks\n",
    "for i in np.arange(1, 9, 3):\n",
    "    for j in np.arange(1, 9, 3):\n",
    "        for k in N:\n",
    "            model.block_constraint.add(\n",
    "                sum(\n",
    "                    model.X[p, q, k]\n",
    "                    for p in np.arange(i, i + 3)\n",
    "                    for q in np.arange(j, j + 3)\n",
    "                )\n",
    "                == 1\n",
    "            )\n",
    "\n",
    "# All cells\n",
    "for i in N:\n",
    "    for j in N:\n",
    "        model.allcells_constraint.add(sum(model.X[i, j, k] for k in N) == 1)\n",
    "\n",
    "# Known cells\n",
    "for i, j, k in zip(known_cells[\"i\"], known_cells[\"j\"], known_cells[\"k\"]):\n",
    "    #     if k != 0:\n",
    "    model.knowncells_constraint.add(model.X[i, j, k] == 1)"
   ]
  },
  {
   "cell_type": "markdown",
   "metadata": {},
   "source": [
    "### Objective"
   ]
  },
  {
   "cell_type": "code",
   "execution_count": 6,
   "metadata": {},
   "outputs": [],
   "source": [
    "model.objective = pyo.Objective(expr=1)"
   ]
  },
  {
   "cell_type": "markdown",
   "metadata": {},
   "source": [
    "### Solving"
   ]
  },
  {
   "cell_type": "code",
   "execution_count": 7,
   "metadata": {},
   "outputs": [
    {
     "name": "stdout",
     "output_type": "stream",
     "text": [
      "WARNING: Constant objective detected, replacing with a placeholder to prevent\n",
      "    solver failure.\n"
     ]
    }
   ],
   "source": [
    "opt = SolverFactory(\"glpk\")\n",
    "solution = opt.solve(model)"
   ]
  },
  {
   "cell_type": "code",
   "execution_count": 8,
   "metadata": {},
   "outputs": [
    {
     "name": "stdout",
     "output_type": "stream",
     "text": [
      "[[9. 5. 7. 6. 1. 3. 2. 8. 4.]\n",
      " [4. 8. 3. 2. 5. 7. 1. 9. 6.]\n",
      " [6. 1. 2. 8. 4. 9. 5. 3. 7.]\n",
      " [1. 7. 8. 3. 6. 4. 9. 5. 2.]\n",
      " [5. 2. 4. 9. 7. 1. 3. 6. 8.]\n",
      " [3. 6. 9. 5. 2. 8. 7. 4. 1.]\n",
      " [8. 4. 5. 7. 9. 2. 6. 1. 3.]\n",
      " [2. 9. 1. 4. 3. 6. 8. 7. 5.]\n",
      " [7. 3. 6. 1. 8. 5. 4. 2. 9.]]\n"
     ]
    }
   ],
   "source": [
    "res = np.zeros((9, 9))\n",
    "\n",
    "for v in model.component_data_objects(pyo.Var, active=True):\n",
    "    val = v.value\n",
    "    if val > 0:\n",
    "        i, j, k = [int(x) for x in re.findall(\"[0-9]\", v.name)]\n",
    "        res[i - 1, j - 1] = k\n",
    "\n",
    "print(res)"
   ]
  },
  {
   "cell_type": "markdown",
   "metadata": {},
   "source": [
    "---"
   ]
  },
  {
   "cell_type": "code",
   "execution_count": 9,
   "metadata": {},
   "outputs": [
    {
     "name": "stdout",
     "output_type": "stream",
     "text": [
      "Last updated: 2020-12-21\n",
      "\n",
      "Python implementation: CPython\n",
      "Python version       : 3.8.5\n",
      "IPython version      : 7.19.0\n",
      "\n",
      "Compiler    : Clang 10.0.0 \n",
      "OS          : Darwin\n",
      "Release     : 20.1.0\n",
      "Machine     : x86_64\n",
      "Processor   : i386\n",
      "CPU cores   : 4\n",
      "Architecture: 64bit\n",
      "\n",
      "Hostname: JHCookMac.local\n",
      "\n",
      "Git branch: master\n",
      "\n",
      "pandas: 1.1.5\n",
      "re    : 2.2.1\n",
      "numpy : 1.19.4\n",
      "pyomo : 5.7.2\n",
      "\n"
     ]
    }
   ],
   "source": [
    "%load_ext watermark\n",
    "%watermark -d -u -v -iv -b -h -m"
   ]
  }
 ],
 "metadata": {
  "kernelspec": {
   "display_name": "Python 3",
   "language": "python",
   "name": "python3"
  },
  "language_info": {
   "codemirror_mode": {
    "name": "ipython",
    "version": 3
   },
   "file_extension": ".py",
   "mimetype": "text/x-python",
   "name": "python",
   "nbconvert_exporter": "python",
   "pygments_lexer": "ipython3",
   "version": "3.8.5"
  }
 },
 "nbformat": 4,
 "nbformat_minor": 4
}
