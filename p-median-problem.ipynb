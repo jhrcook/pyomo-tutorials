{
 "cells": [
  {
   "cell_type": "markdown",
   "metadata": {},
   "source": [
    "# The p-Median Problem\n",
    "\n",
    "[Tutorial](https://nbviewer.jupyter.org/github/Pyomo/PyomoGallery/blob/master/p_median/p_median.ipynb)"
   ]
  },
  {
   "cell_type": "code",
   "execution_count": 1,
   "metadata": {},
   "outputs": [],
   "source": [
    "import random\n",
    "import re\n",
    "\n",
    "from pyomo import environ as pyo\n",
    "from pyomo.dataportal import DataPortal\n",
    "from pyomo.opt import SolverFactory\n",
    "\n",
    "random.seed(1000)\n",
    "\n",
    "infinity = float(\"inf\")"
   ]
  },
  {
   "cell_type": "markdown",
   "metadata": {},
   "source": [
    "## Problem\n",
    "\n",
    "Locate $p$ facilities to minimize the demand-weighted average distance between demand nodes and the nearest selected facilities.\n",
    "\n",
    "### Sets\n",
    "\n",
    "- $M$: set of candidate locations\n",
    "- $N$: set of customer demand nodes\n",
    "\n",
    "### Parameters\n",
    "\n",
    "- $p$: number of facilties to locate\n",
    "- $d_j$: demand of customer $j$, $\\forall j \\in N$\n",
    "- $c_{ij}$: unit cost of satisfying customer $j$ from facility $i$, $\\forall i \\in M$, $\\forall j \\in N$\n",
    "\n",
    "### Variables\n",
    "\n",
    "- $x_{ij}$: fraction of the demand of customer $j$ that is supplied by facility $i$, $\\forall i \\in M$, $\\forall j \\in N$\n",
    "- $y_i$: a binary value that is $1$ when a facility is located at location $i$, $\\forall i \\in M$\n",
    "\n",
    "### Objective\n",
    "\n",
    "Minimize the demand-weighted total cost: $\\min \\sum_{i \\in M} \\sum_{j \\in N} d_j c_{ij} x_{ij}$\n",
    "\n",
    "### Constraints\n",
    "\n",
    "- satisfy all customer demand: $\\sum_{i \\in M}  x_{ij} = 1$, $\\forall j \\in N$\n",
    "- exactly $p$ facilities are located: $\\sum_{i \\in M} y_i = p$\n",
    "- demand nodes can only be assigned to open facilities: $x_{ij} \\leq y_i$, $\\forall i \\in M$, $\\forall j \\in N$\n",
    "- assignment variables must be non-negative: $x_{ij} \\ge 0$, $\\forall i \\in M$, $\\forall j \\in N$"
   ]
  },
  {
   "cell_type": "markdown",
   "metadata": {},
   "source": [
    "## Coding the problem"
   ]
  },
  {
   "cell_type": "code",
   "execution_count": 2,
   "metadata": {},
   "outputs": [],
   "source": [
    "model = pyo.AbstractModel()"
   ]
  },
  {
   "cell_type": "markdown",
   "metadata": {},
   "source": [
    "### Sets"
   ]
  },
  {
   "cell_type": "code",
   "execution_count": 3,
   "metadata": {},
   "outputs": [],
   "source": [
    "model.m = pyo.Param(within=pyo.PositiveIntegers)\n",
    "model.n = pyo.Param(within=pyo.PositiveIntegers)\n",
    "model.M = pyo.RangeSet(1, model.m)\n",
    "model.N = pyo.RangeSet(1, model.n)"
   ]
  },
  {
   "cell_type": "markdown",
   "metadata": {},
   "source": [
    "### Parameters"
   ]
  },
  {
   "cell_type": "code",
   "execution_count": 4,
   "metadata": {},
   "outputs": [],
   "source": [
    "model.p = pyo.Param(within=pyo.RangeSet(1, model.n))\n",
    "model.d = pyo.Param(model.N, default=1.0)\n",
    "model.c = pyo.Param(\n",
    "    model.M,\n",
    "    model.N,\n",
    "    initialize=lambda i, j, model: random.uniform(1.0, 2.0),\n",
    "    within=pyo.Reals,\n",
    ")"
   ]
  },
  {
   "cell_type": "markdown",
   "metadata": {},
   "source": [
    "### Variables"
   ]
  },
  {
   "cell_type": "code",
   "execution_count": 5,
   "metadata": {},
   "outputs": [],
   "source": [
    "model.x = pyo.Var(model.M, model.N, bounds=(0.0, 1.0))\n",
    "model.y = pyo.Var(model.M, within=pyo.Binary)"
   ]
  },
  {
   "cell_type": "markdown",
   "metadata": {},
   "source": [
    "### Objective"
   ]
  },
  {
   "cell_type": "code",
   "execution_count": 6,
   "metadata": {},
   "outputs": [],
   "source": [
    "def cost_(model):\n",
    "    return sum(\n",
    "        model.d[j] * model.c[i, j] * model.x[i, j] for i in model.M for j in model.N\n",
    "    )\n",
    "\n",
    "\n",
    "model.cost = pyo.Objective(rule=cost_)"
   ]
  },
  {
   "cell_type": "markdown",
   "metadata": {},
   "source": [
    "### Constraints"
   ]
  },
  {
   "cell_type": "code",
   "execution_count": 7,
   "metadata": {},
   "outputs": [],
   "source": [
    "def demand_(model, j):\n",
    "    return sum(model.x[i, j] for i in model.M) == 1.0\n",
    "\n",
    "\n",
    "def facilities_(model):\n",
    "    return sum(model.y[i] for i in model.M) == model.p\n",
    "\n",
    "\n",
    "def openfac_(model, i, j):\n",
    "    return model.x[i, j] <= model.y[i]\n",
    "\n",
    "\n",
    "model.demand = pyo.Constraint(model.N, rule=demand_)\n",
    "model.facilities = pyo.Constraint(rule=facilities_)\n",
    "model.openfac = pyo.Constraint(model.M, model.N, rule=openfac_)"
   ]
  },
  {
   "cell_type": "markdown",
   "metadata": {},
   "source": [
    "### Data"
   ]
  },
  {
   "cell_type": "code",
   "execution_count": 8,
   "metadata": {},
   "outputs": [
    {
     "data": {
      "text/plain": [
       "{None: {'m': {None: 10}, 'n': {None: 6}, 'p': {None: 3}}}"
      ]
     },
     "execution_count": 8,
     "metadata": {},
     "output_type": "execute_result"
    }
   ],
   "source": [
    "data = {None: {\"m\": {None: 10}, \"n\": {None: 6}, \"p\": {None: 3}}}\n",
    "data"
   ]
  },
  {
   "cell_type": "markdown",
   "metadata": {},
   "source": [
    "### Solving"
   ]
  },
  {
   "cell_type": "code",
   "execution_count": 9,
   "metadata": {},
   "outputs": [],
   "source": [
    "instance = model.create_instance(data=data, name=\"The p-Median Problem\")\n",
    "opt = SolverFactory(\"glpk\")\n",
    "solution = opt.solve(instance)"
   ]
  },
  {
   "cell_type": "code",
   "execution_count": 10,
   "metadata": {},
   "outputs": [
    {
     "name": "stdout",
     "output_type": "stream",
     "text": [
      "\n",
      "Problem: \n",
      "- Name: unknown\n",
      "  Lower bound: 6.43118493935767\n",
      "  Upper bound: 6.43118493935767\n",
      "  Number of objectives: 1\n",
      "  Number of constraints: 68\n",
      "  Number of variables: 71\n",
      "  Number of nonzeros: 191\n",
      "  Sense: minimize\n",
      "Solver: \n",
      "- Status: ok\n",
      "  Termination condition: optimal\n",
      "  Statistics: \n",
      "    Branch and bound: \n",
      "      Number of bounded subproblems: 1\n",
      "      Number of created subproblems: 1\n",
      "  Error rc: 0\n",
      "  Time: 0.015077829360961914\n",
      "Solution: \n",
      "- number of solutions: 0\n",
      "  number of solutions displayed: 0\n",
      "\n"
     ]
    }
   ],
   "source": [
    "print(solution)"
   ]
  },
  {
   "cell_type": "code",
   "execution_count": 11,
   "metadata": {},
   "outputs": [
    {
     "name": "stdout",
     "output_type": "stream",
     "text": [
      "cost: 6.43118\n"
     ]
    }
   ],
   "source": [
    "for o in instance.component_data_objects(pyo.Objective, active=True):\n",
    "    print(f\"{o}: {pyo.value(o):.5f}\")"
   ]
  },
  {
   "cell_type": "code",
   "execution_count": 12,
   "metadata": {},
   "outputs": [
    {
     "name": "stdout",
     "output_type": "stream",
     "text": [
      "fraction of the demand of customer 4 that is supplied by facility 3: 1.0\n",
      "fraction of the demand of customer 1 that is supplied by facility 6: 1.0\n",
      "fraction of the demand of customer 2 that is supplied by facility 6: 1.0\n",
      "fraction of the demand of customer 3 that is supplied by facility 6: 1.0\n",
      "fraction of the demand of customer 5 that is supplied by facility 6: 1.0\n",
      "fraction of the demand of customer 6 that is supplied by facility 9: 1.0\n",
      "facility located at location 3\n",
      "facility located at location 6\n",
      "facility located at location 9\n"
     ]
    }
   ],
   "source": [
    "def print_x_result(v, val):\n",
    "    ij = v.name.replace(\"x[\", \"\").replace(\"]\", \"\").split(\",\")\n",
    "    i = int(ij[0])\n",
    "    j = int(ij[1])\n",
    "    print(\n",
    "        f\"fraction of the demand of customer {j} that is supplied by facility {i}: {val}\"\n",
    "    )\n",
    "\n",
    "\n",
    "def print_y_result(v, val):\n",
    "    j = re.findall(\"[0-9]+\", v.name)[0]\n",
    "    print(f\"facility located at location {j}\")\n",
    "\n",
    "\n",
    "for v in instance.component_data_objects(pyo.Var, active=True):\n",
    "    value = pyo.value(v)\n",
    "    if value > 0:\n",
    "        if \"x\" in v.name:\n",
    "            print_x_result(v, value)\n",
    "        elif \"y\" in v.name:\n",
    "            print_y_result(v, value)"
   ]
  },
  {
   "cell_type": "markdown",
   "metadata": {},
   "source": [
    "---"
   ]
  },
  {
   "cell_type": "code",
   "execution_count": 13,
   "metadata": {},
   "outputs": [
    {
     "name": "stdout",
     "output_type": "stream",
     "text": [
      "Last updated: 2020-12-21\n",
      "\n",
      "Python implementation: CPython\n",
      "Python version       : 3.8.5\n",
      "IPython version      : 7.19.0\n",
      "\n",
      "Compiler    : Clang 10.0.0 \n",
      "OS          : Darwin\n",
      "Release     : 20.1.0\n",
      "Machine     : x86_64\n",
      "Processor   : i386\n",
      "CPU cores   : 4\n",
      "Architecture: 64bit\n",
      "\n",
      "Hostname: JHCookMac.local\n",
      "\n",
      "Git branch: master\n",
      "\n",
      "pyomo: 5.7.2\n",
      "re   : 2.2.1\n",
      "\n"
     ]
    }
   ],
   "source": [
    "%load_ext watermark\n",
    "%watermark -d -u -v -iv -b -h -m"
   ]
  }
 ],
 "metadata": {
  "kernelspec": {
   "display_name": "Python 3",
   "language": "python",
   "name": "python3"
  },
  "language_info": {
   "codemirror_mode": {
    "name": "ipython",
    "version": 3
   },
   "file_extension": ".py",
   "mimetype": "text/x-python",
   "name": "python",
   "nbconvert_exporter": "python",
   "pygments_lexer": "ipython3",
   "version": "3.8.5"
  }
 },
 "nbformat": 4,
 "nbformat_minor": 4
}
